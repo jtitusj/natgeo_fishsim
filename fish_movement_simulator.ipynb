{
 "cells": [
  {
   "cell_type": "code",
   "execution_count": 1,
   "metadata": {
    "ExecuteTime": {
     "end_time": "2018-10-08T17:43:00.054621Z",
     "start_time": "2018-10-08T17:42:59.600438Z"
    }
   },
   "outputs": [],
   "source": [
    "import numpy as np\n",
    "import pandas as pd\n",
    "import matplotlib.pyplot as plt\n",
    "\n",
    "%matplotlib inline"
   ]
  },
  {
   "cell_type": "markdown",
   "metadata": {},
   "source": [
    "The following is a naive simulation of fish movements.\n",
    "\n",
    "Assumptions:\n",
    "\n",
    "1. Number of fish in poisson distributed with expected count of 1000 fish.\n",
    "2. Fish move in a general direction with a speed of 50 meters per minute with\n",
    "    some random gaussian noise with std = 1 meter.\n",
    "3. Detection radius of each sonar sensor is 150m.\n",
    "4. Distribution of fish in the school is a multivariate normal distribution."
   ]
  },
  {
   "cell_type": "code",
   "execution_count": 2,
   "metadata": {
    "ExecuteTime": {
     "end_time": "2018-10-08T17:43:00.061135Z",
     "start_time": "2018-10-08T17:43:00.056654Z"
    }
   },
   "outputs": [],
   "source": [
    "# set sensor positions\n",
    "sensors = np.array([\n",
    "    np.array([[i]*4 for i in range(4)]).flatten(),\n",
    "    np.array(list(range(4))*4).flatten()\n",
    "]).T*250"
   ]
  },
  {
   "cell_type": "code",
   "execution_count": 3,
   "metadata": {
    "ExecuteTime": {
     "end_time": "2018-10-08T17:43:00.169817Z",
     "start_time": "2018-10-08T17:43:00.064632Z"
    }
   },
   "outputs": [],
   "source": [
    "# assume multivariate distribution of fish in school\n",
    "mean = np.array([0, 0])\n",
    "cov = np.array([[50, 5],\n",
    "                [5, 20]])\n",
    "\n",
    "n_fishes = np.random.poisson(1000)\n",
    "position = np.random.multivariate_normal(mean, cov, n_fishes)\n",
    "\n",
    "# for this simulation, we use a linear path with some small random noise\n",
    "def path_linear(p, vx=20, vy=40, sig=1):\n",
    "    # position after 5 mins\n",
    "    new_x = p[:, 0] + (5*vx + np.random.normal(scale=sig))\n",
    "    new_y = p[:, 1] + (5*vy + np.random.normal(scale=sig))\n",
    "    return np.array([new_x, new_y]).T\n",
    "\n",
    "# generate positions of fish every 5 mins (total of 288 instances in a day)\n",
    "positions = [position]\n",
    "for i in range(1, 288):\n",
    "    positions.append(path_linear(positions[i-1]))"
   ]
  },
  {
   "cell_type": "code",
   "execution_count": 4,
   "metadata": {
    "ExecuteTime": {
     "end_time": "2018-10-08T17:43:00.180894Z",
     "start_time": "2018-10-08T17:43:00.172322Z"
    }
   },
   "outputs": [],
   "source": [
    "def count_fish(positions, sensors=sensors):\n",
    "    fish_counts = [[(np.linalg.norm(p - sensors[i, :], axis=1) < 150).sum()\n",
    "                    for i in range(16)]\n",
    "                   for p in positions]\n",
    "    df = pd.DataFrame(fish_counts, columns=[f'sensor{i}' for i in range(16)])\n",
    "    return df"
   ]
  },
  {
   "cell_type": "code",
   "execution_count": 5,
   "metadata": {
    "ExecuteTime": {
     "end_time": "2018-10-08T17:43:00.319979Z",
     "start_time": "2018-10-08T17:43:00.183846Z"
    }
   },
   "outputs": [],
   "source": [
    "df_positions = count_fish(positions)"
   ]
  },
  {
   "cell_type": "code",
   "execution_count": 6,
   "metadata": {
    "ExecuteTime": {
     "end_time": "2018-10-08T17:43:00.328187Z",
     "start_time": "2018-10-08T17:43:00.322326Z"
    }
   },
   "outputs": [],
   "source": [
    "# plot fish simulations and store as png files\n",
    "\n",
    "# for t in range(len(df_positions)):\n",
    "#     p = positions[t]\n",
    "#     fig, ax = plt.subplots(1, figsize=(8, 8))\n",
    "#     ax.plot(p[:, 0], p[:, 1], 'r.')\n",
    "#     ax.set_xlim(-150, 900)\n",
    "#     ax.set_ylim(-150, 900)\n",
    "\n",
    "#     for i in range(4):\n",
    "#         for j in range(4):\n",
    "#             ax.add_artist(plt.Circle((250*i, 250*j),\n",
    "#                                      radius=150, color='blue', alpha=0.1))\n",
    "#     ax.set_title(f'Fish Detected at t={t}')\n",
    "#     ax.set_xticks(np.array(range(4))*250)\n",
    "#     ax.set_yticks(np.array(range(4))*250)\n",
    "#     ax.grid(True)\n",
    "#     count = f'{t}'.zfill(3)\n",
    "#     plt.savefig(f'./fishes/fish_{count}')\n",
    "#     plt.close();"
   ]
  },
  {
   "cell_type": "code",
   "execution_count": 7,
   "metadata": {
    "ExecuteTime": {
     "end_time": "2018-10-08T17:43:00.337204Z",
     "start_time": "2018-10-08T17:43:00.330761Z"
    }
   },
   "outputs": [
    {
     "data": {
      "text/html": [
       "<img src=\"./fishes/fish_detector_100.gif\"/>"
      ],
      "text/plain": [
       "<IPython.core.display.Image object>"
      ]
     },
     "execution_count": 7,
     "metadata": {},
     "output_type": "execute_result"
    }
   ],
   "source": [
    "from IPython.display import Image\n",
    "Image(url='./fishes/fish_detector_100.gif')"
   ]
  },
  {
   "cell_type": "code",
   "execution_count": null,
   "metadata": {},
   "outputs": [],
   "source": []
  }
 ],
 "metadata": {
  "kernelspec": {
   "display_name": "Python 3",
   "language": "python",
   "name": "python3"
  },
  "language_info": {
   "codemirror_mode": {
    "name": "ipython",
    "version": 3
   },
   "file_extension": ".py",
   "mimetype": "text/x-python",
   "name": "python",
   "nbconvert_exporter": "python",
   "pygments_lexer": "ipython3",
   "version": "3.6.4"
  },
  "toc": {
   "nav_menu": {},
   "number_sections": true,
   "sideBar": true,
   "skip_h1_title": false,
   "title_cell": "Table of Contents",
   "title_sidebar": "Contents",
   "toc_cell": false,
   "toc_position": {},
   "toc_section_display": true,
   "toc_window_display": false
  }
 },
 "nbformat": 4,
 "nbformat_minor": 2
}
